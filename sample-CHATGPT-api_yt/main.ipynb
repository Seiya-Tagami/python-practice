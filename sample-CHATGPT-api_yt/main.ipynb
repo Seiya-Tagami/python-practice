{
 "cells": [
  {
   "cell_type": "code",
   "execution_count": 2,
   "metadata": {},
   "outputs": [],
   "source": [
    "import openai\n",
    "openai.api_key = \"xxxxxxxxxxxxxxxxxxxxxxxxxxxxxxxx\""
   ]
  },
  {
   "cell_type": "code",
   "execution_count": 2,
   "metadata": {},
   "outputs": [],
   "source": [
    "res = openai.ChatCompletion.create(\n",
    "    model=\"gpt-3.5-turbo\",\n",
    "    messages = [\n",
    "        {\n",
    "            \"role\": \"system\",\n",
    "            \"content\": \"日本語で返答してください。\"\n",
    "        },\n",
    "        {\n",
    "            \"role\": \"user\",\n",
    "            \"content\": \"What is AI?\"\n",
    "        }\n",
    "    ]\n",
    ")"
   ]
  },
  {
   "cell_type": "code",
   "execution_count": 4,
   "metadata": {},
   "outputs": [
    {
     "name": "stdout",
     "output_type": "stream",
     "text": [
      "AIとは「人工知能（Artificial Intelligence）」の略称で、機械、コンピューター、ロボットなどの人工的なものに人間の知能や知識・経験を模倣させ、人間が行っているような問題解決や判断、学習などの能力を備えさせる技術のことを指します。 AI技術は、ビジネス、医療、エンターテイメント、公共事業、セキュリティなど様々な分野で活用され、現在も急速に発展しています。\n"
     ]
    }
   ],
   "source": [
    "print(res['choices'][0][\"message\"][\"content\"])"
   ]
  },
  {
   "cell_type": "code",
   "execution_count": 7,
   "metadata": {},
   "outputs": [],
   "source": [
    "res = openai.ChatCompletion.create(\n",
    "    model=\"gpt-3.5-turbo\",\n",
    "    messages = [\n",
    "        {\n",
    "            \"role\": \"system\",\n",
    "            \"content\": \"日本語で返答してください。\"\n",
    "        },\n",
    "        {\n",
    "            \"role\": \"user\",\n",
    "            \"content\": \"What is AI?\"\n",
    "        },\n",
    "        {\n",
    "            \"role\": \"assistant\",\n",
    "            \"content\": \"AIとは「人工知能（Artificial Intelligence）」の略称で、機械、コンピューター、ロボットなどの人工的なものに人間の知能や知識・経験を模倣させ、人間が行っているような問題解決や判断、学習などの能力を備えさせる技術のことを指します。 AI技術は、ビジネス、医療、エンターテイメント、公共事業、セキュリティなど様々な分野で活用され、現在も急速に発展しています。\"\n",
    "        },\n",
    "        {\n",
    "            \"role\": \"user\",\n",
    "            \"content\": \"英訳してください\"\n",
    "        }\n",
    "    ]\n",
    ")"
   ]
  },
  {
   "cell_type": "code",
   "execution_count": 9,
   "metadata": {},
   "outputs": [
    {
     "name": "stdout",
     "output_type": "stream",
     "text": [
      "What is AI?\n",
      "\n",
      "AI stands for \"Artificial Intelligence\", which is a technology that allows machines, computers, robots, and other artificial objects to mimic human intelligence, knowledge, experience, and abilities to solve problems, make decisions, learn, and more like human beings. AI technology is being used in various fields such as business, medicine, entertainment, public works, security, etc. and is rapidly evolving even now.\n"
     ]
    }
   ],
   "source": [
    "print(res['choices'][0][\"message\"][\"content\"])"
   ]
  }
 ],
 "metadata": {
  "kernelspec": {
   "display_name": "base",
   "language": "python",
   "name": "python3"
  },
  "language_info": {
   "codemirror_mode": {
    "name": "ipython",
    "version": 3
   },
   "file_extension": ".py",
   "mimetype": "text/x-python",
   "name": "python",
   "nbconvert_exporter": "python",
   "pygments_lexer": "ipython3",
   "version": "3.9.7"
  },
  "orig_nbformat": 4
 },
 "nbformat": 4,
 "nbformat_minor": 2
}
